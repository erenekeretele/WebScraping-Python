{
 "cells": [
  {
   "cell_type": "code",
   "execution_count": null,
   "id": "d4a3c133-7c40-4e43-a86e-b98e2b79152a",
   "metadata": {},
   "outputs": [],
   "source": [
    "# Import required libraries\n",
    "from bs4 import BeautifulSoup\n",
    "import requests\n",
    "import csv\n",
    "import time\n",
    "import smtplib\n",
    "from datetime import datetime"
   ]
  },
  {
   "cell_type": "code",
   "execution_count": null,
   "id": "19c9feb4-236d-4d2c-a8ec-11099028959d",
   "metadata": {},
   "outputs": [],
   "source": [
    "# Amazon product URL\n",
    "URL = \"https://www.amazon.com.tr/Casio-F-91W-1Dg-Erkek-Kol-Saati/dp/B000J34HN4\"\n",
    "\n",
    "# HTTP headers\n",
    "headers = {\n",
    "    \"User-Agent\": \"Mozilla/5.0 (Windows NT 10.0; Win64; x64; rv:110.0) Gecko/20100101 Firefox/110.0\",\n",
    "    \"Accept\": \"text/html,application/xhtml+xml,application/xml;q=0.9,*/*;q=0.8\",\n",
    "    \"Accept-Encoding\": \"gzip, deflate, br\",\n",
    "    \"Accept-Language\": \"en-US,en;q=0.5\",\n",
    "    \"DNT\": \"1\",\n",
    "    \"Connection\": \"keep-alive\",\n",
    "    \"Upgrade-Insecure-Requests\": \"1\"\n",
    "}"
   ]
  },
  {
   "cell_type": "code",
   "execution_count": null,
   "id": "8d88ce6a-d368-4622-9a52-54671520d79e",
   "metadata": {},
   "outputs": [],
   "source": [
    "# Function to check the product price\n",
    "def check_price():\n",
    "    response = requests.get(URL, headers=headers)\n",
    "    soup = BeautifulSoup(response.content, \"html.parser\")\n",
    "\n",
    "    # Extract product title\n",
    "    title = soup.find(id=\"productTitle\")\n",
    "    title = title.get_text().strip()\n",
    "\n",
    "    # Extract product price\n",
    "    price_element = soup.find(\"span\", {\"class\": \"a-price-whole\"})\n",
    "    price = float(price_element.get_text().replace(\".\", \"\").replace(\",\", \".\"))\n",
    "\n",
    "    return title, price"
   ]
  },
  {
   "cell_type": "code",
   "execution_count": null,
   "id": "637b6ba1-f3bd-4088-9134-86fc2bc49501",
   "metadata": {},
   "outputs": [],
   "source": [
    "# Function to log the price to a CSV file\n",
    "def log_price_to_csv(title, price):\n",
    "    filename = \"PRICE.csv\"\n",
    "    timestamp = datetime.now().strftime(\"%Y-%m-%d %H:%M:%S\")  # Fixed import here\n",
    "    data = [timestamp, title, price]\n",
    "\n",
    "    # Check if the file exists, if not create it and write the header\n",
    "    try:\n",
    "        with open(filename, \"x\", newline=\"\", encoding=\"UTF8\") as f:\n",
    "            writer = csv.writer(f)\n",
    "            writer.writerow([\"Timestamp\", \"Product Title\", \"Price\"])\n",
    "    except FileExistsError:\n",
    "        pass  # File already exists, no need to write the header again\n",
    "\n",
    "    # Append the price data to the CSV file\n",
    "    with open(filename, \"a\", newline=\"\", encoding=\"UTF8\") as f:\n",
    "        writer = csv.writer(f)\n",
    "        writer.writerow(data)"
   ]
  },
  {
   "cell_type": "code",
   "execution_count": null,
   "id": "a61a602b-35c9-4fd6-8cd2-6b6e9919a206",
   "metadata": {},
   "outputs": [],
   "source": [
    "# Function to send email\n",
    "def send_email(price, title):\n",
    "    server = smtplib.SMTP_SSL('smtp.gmail.com', 465)\n",
    "    server.ehlo()\n",
    "    server.login('senders_mail@gmail.com', 'senders_password')  # Replace with your email credentials\n",
    "\n",
    "    subject = f\"Price Alert: {title} is now {price} TRY!\"\n",
    "    body = f\"The product '{title}' is now priced at {price} TRY. Check it out here: {URL}\"\n",
    "\n",
    "    msg = f\"Subject: {subject}\\n\\n{body}\"\n",
    "\n",
    "    server.sendmail(\n",
    "        'senders_mail@gmail.com',\n",
    "        'your_email@gmail.com',  # Replace with your email\n",
    "        msg\n",
    "    )\n",
    "    server.close()\n",
    "\n",
    "    print(\"Email sent successfully!\")"
   ]
  },
  {
   "cell_type": "code",
   "execution_count": null,
   "id": "76f77e48-41ec-435b-b721-a00f35f6305a",
   "metadata": {},
   "outputs": [],
   "source": [
    "# Function to monitor price and check if it crosses threshold\n",
    "def monitor_price(threshold_price):\n",
    "    while True:\n",
    "        title, price = check_price()\n",
    "        if price and price < threshold_price:\n",
    "            send_email(price, title)  # Send an email if price is below the threshold\n",
    "        log_price_to_csv(title, price) \n",
    "        print(f\"Logged price for {title}: {price}\")\n",
    "        time.sleep(3600)  # Wait for 1 hour before checking again"
   ]
  },
  {
   "cell_type": "code",
   "execution_count": null,
   "id": "8164eb8c-16b9-4e68-881e-5e65937179df",
   "metadata": {},
   "outputs": [],
   "source": [
    "# Run the monitoring function with a threshold price\n",
    "threshold_price = 300  # Target price\n",
    "monitor_price(threshold_price)"
   ]
  }
 ],
 "metadata": {
  "kernelspec": {
   "display_name": "Python [conda env:base] *",
   "language": "python",
   "name": "conda-base-py"
  },
  "language_info": {
   "codemirror_mode": {
    "name": "ipython",
    "version": 3
   },
   "file_extension": ".py",
   "mimetype": "text/x-python",
   "name": "python",
   "nbconvert_exporter": "python",
   "pygments_lexer": "ipython3",
   "version": "3.12.7"
  }
 },
 "nbformat": 4,
 "nbformat_minor": 5
}
